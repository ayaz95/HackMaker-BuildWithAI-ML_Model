{
  "nbformat": 4,
  "nbformat_minor": 0,
  "metadata": {
    "colab": {
      "name": "Recommendation_Engine.ipynb",
      "provenance": [],
      "collapsed_sections": []
    },
    "kernelspec": {
      "name": "python3",
      "display_name": "Python 3"
    },
    "language_info": {
      "name": "python"
    }
  },
  "cells": [
    {
      "cell_type": "code",
      "metadata": {
        "id": "f2Yx1RqbBJR0"
      },
      "source": [
        "# Import Libraries\n",
        "\n",
        "import pandas as pd\n",
        "from surprise import Dataset\n",
        "from surprise import Reader\n",
        "from surprise import KNNWithMeans"
      ],
      "execution_count": 2,
      "outputs": []
    },
    {
      "cell_type": "code",
      "metadata": {
        "colab": {
          "base_uri": "https://localhost:8080/",
          "height": 204
        },
        "id": "34qNaO1dBJWD",
        "outputId": "4bf3ce1c-1844-448b-b0fc-8b02f8fdb82d"
      },
      "source": [
        "### Reading the data \n",
        "\n",
        "ratings = pd.read_csv('/content/Hackmaker_NCF.csv')\n",
        "ratings.head()"
      ],
      "execution_count": 5,
      "outputs": [
        {
          "output_type": "execute_result",
          "data": {
            "text/html": [
              "<div>\n",
              "<style scoped>\n",
              "    .dataframe tbody tr th:only-of-type {\n",
              "        vertical-align: middle;\n",
              "    }\n",
              "\n",
              "    .dataframe tbody tr th {\n",
              "        vertical-align: top;\n",
              "    }\n",
              "\n",
              "    .dataframe thead th {\n",
              "        text-align: right;\n",
              "    }\n",
              "</style>\n",
              "<table border=\"1\" class=\"dataframe\">\n",
              "  <thead>\n",
              "    <tr style=\"text-align: right;\">\n",
              "      <th></th>\n",
              "      <th>userID</th>\n",
              "      <th>itemID</th>\n",
              "      <th>rating</th>\n",
              "      <th>timestamp</th>\n",
              "    </tr>\n",
              "  </thead>\n",
              "  <tbody>\n",
              "    <tr>\n",
              "      <th>0</th>\n",
              "      <td>111.0</td>\n",
              "      <td>160.0</td>\n",
              "      <td>50.0</td>\n",
              "      <td>978824351.0</td>\n",
              "    </tr>\n",
              "    <tr>\n",
              "      <th>1</th>\n",
              "      <td>111.0</td>\n",
              "      <td>130.0</td>\n",
              "      <td>50.0</td>\n",
              "      <td>978300174.0</td>\n",
              "    </tr>\n",
              "    <tr>\n",
              "      <th>2</th>\n",
              "      <td>111.0</td>\n",
              "      <td>140.0</td>\n",
              "      <td>50.0</td>\n",
              "      <td>978298504.0</td>\n",
              "    </tr>\n",
              "    <tr>\n",
              "      <th>3</th>\n",
              "      <td>111.0</td>\n",
              "      <td>190.0</td>\n",
              "      <td>50.0</td>\n",
              "      <td>978294282.0</td>\n",
              "    </tr>\n",
              "    <tr>\n",
              "      <th>4</th>\n",
              "      <td>111.0</td>\n",
              "      <td>160.0</td>\n",
              "      <td>55.0</td>\n",
              "      <td>978246585.0</td>\n",
              "    </tr>\n",
              "  </tbody>\n",
              "</table>\n",
              "</div>"
            ],
            "text/plain": [
              "   userID  itemID  rating    timestamp\n",
              "0   111.0   160.0    50.0  978824351.0\n",
              "1   111.0   130.0    50.0  978300174.0\n",
              "2   111.0   140.0    50.0  978298504.0\n",
              "3   111.0   190.0    50.0  978294282.0\n",
              "4   111.0   160.0    55.0  978246585.0"
            ]
          },
          "metadata": {},
          "execution_count": 5
        }
      ]
    },
    {
      "cell_type": "markdown",
      "metadata": {
        "id": "PbctJCVEw8YA"
      },
      "source": [
        "### Applying the Frequency count method on the dataset to recommend the most popular product item to the users."
      ]
    },
    {
      "cell_type": "markdown",
      "metadata": {
        "id": "tVovoHYFfalp"
      },
      "source": [
        "###### This method will recommend user based on the number of historical purchase user already made."
      ]
    },
    {
      "cell_type": "code",
      "metadata": {
        "id": "m1cHJ_1tBJZO"
      },
      "source": [
        "g=ratings.groupby('userID')['rating'].count()\n",
        "topUsers=g.sort_values(ascending=False)\n",
        "\n",
        "g=ratings.groupby('itemID')['rating'].count()\n",
        "topItem=g.sort_values(ascending=False)\n",
        "\n",
        "top_r = ratings.join(topUsers, rsuffix='_r', how='inner', on='userID')\n",
        "top_r = top_r.join(topItem, rsuffix='_r', how='inner', on='itemID')\n"
      ],
      "execution_count": 11,
      "outputs": []
    },
    {
      "cell_type": "code",
      "metadata": {
        "colab": {
          "base_uri": "https://localhost:8080/",
          "height": 638
        },
        "id": "afJsNJ0VBJcA",
        "outputId": "1675a181-e364-4ad2-b07d-4a4d11ddf6db"
      },
      "source": [
        "### Displaying number of times user purchased the product\n",
        "\n",
        "top_r"
      ],
      "execution_count": 12,
      "outputs": [
        {
          "output_type": "execute_result",
          "data": {
            "text/html": [
              "<div>\n",
              "<style scoped>\n",
              "    .dataframe tbody tr th:only-of-type {\n",
              "        vertical-align: middle;\n",
              "    }\n",
              "\n",
              "    .dataframe tbody tr th {\n",
              "        vertical-align: top;\n",
              "    }\n",
              "\n",
              "    .dataframe thead th {\n",
              "        text-align: right;\n",
              "    }\n",
              "</style>\n",
              "<table border=\"1\" class=\"dataframe\">\n",
              "  <thead>\n",
              "    <tr style=\"text-align: right;\">\n",
              "      <th></th>\n",
              "      <th>userID</th>\n",
              "      <th>itemID</th>\n",
              "      <th>rating</th>\n",
              "      <th>timestamp</th>\n",
              "      <th>rating_r</th>\n",
              "      <th>rating_r</th>\n",
              "    </tr>\n",
              "  </thead>\n",
              "  <tbody>\n",
              "    <tr>\n",
              "      <th>0</th>\n",
              "      <td>111.0</td>\n",
              "      <td>160.0</td>\n",
              "      <td>50.0</td>\n",
              "      <td>978824351.0</td>\n",
              "      <td>19</td>\n",
              "      <td>3</td>\n",
              "    </tr>\n",
              "    <tr>\n",
              "      <th>4</th>\n",
              "      <td>111.0</td>\n",
              "      <td>160.0</td>\n",
              "      <td>55.0</td>\n",
              "      <td>978246585.0</td>\n",
              "      <td>19</td>\n",
              "      <td>3</td>\n",
              "    </tr>\n",
              "    <tr>\n",
              "      <th>12</th>\n",
              "      <td>111.0</td>\n",
              "      <td>160.0</td>\n",
              "      <td>60.0</td>\n",
              "      <td>978202577.0</td>\n",
              "      <td>19</td>\n",
              "      <td>3</td>\n",
              "    </tr>\n",
              "    <tr>\n",
              "      <th>1</th>\n",
              "      <td>111.0</td>\n",
              "      <td>130.0</td>\n",
              "      <td>50.0</td>\n",
              "      <td>978300174.0</td>\n",
              "      <td>19</td>\n",
              "      <td>4</td>\n",
              "    </tr>\n",
              "    <tr>\n",
              "      <th>5</th>\n",
              "      <td>111.0</td>\n",
              "      <td>130.0</td>\n",
              "      <td>55.0</td>\n",
              "      <td>978239019.0</td>\n",
              "      <td>19</td>\n",
              "      <td>4</td>\n",
              "    </tr>\n",
              "    <tr>\n",
              "      <th>13</th>\n",
              "      <td>111.0</td>\n",
              "      <td>130.0</td>\n",
              "      <td>60.0</td>\n",
              "      <td>978201317.0</td>\n",
              "      <td>19</td>\n",
              "      <td>4</td>\n",
              "    </tr>\n",
              "    <tr>\n",
              "      <th>17</th>\n",
              "      <td>111.0</td>\n",
              "      <td>130.0</td>\n",
              "      <td>65.0</td>\n",
              "      <td>978157434.0</td>\n",
              "      <td>19</td>\n",
              "      <td>4</td>\n",
              "    </tr>\n",
              "    <tr>\n",
              "      <th>2</th>\n",
              "      <td>111.0</td>\n",
              "      <td>140.0</td>\n",
              "      <td>50.0</td>\n",
              "      <td>978298504.0</td>\n",
              "      <td>19</td>\n",
              "      <td>4</td>\n",
              "    </tr>\n",
              "    <tr>\n",
              "      <th>6</th>\n",
              "      <td>111.0</td>\n",
              "      <td>140.0</td>\n",
              "      <td>55.0</td>\n",
              "      <td>978234898.0</td>\n",
              "      <td>19</td>\n",
              "      <td>4</td>\n",
              "    </tr>\n",
              "    <tr>\n",
              "      <th>14</th>\n",
              "      <td>111.0</td>\n",
              "      <td>140.0</td>\n",
              "      <td>60.0</td>\n",
              "      <td>978361393.0</td>\n",
              "      <td>19</td>\n",
              "      <td>4</td>\n",
              "    </tr>\n",
              "    <tr>\n",
              "      <th>16</th>\n",
              "      <td>111.0</td>\n",
              "      <td>140.0</td>\n",
              "      <td>65.0</td>\n",
              "      <td>978161166.0</td>\n",
              "      <td>19</td>\n",
              "      <td>4</td>\n",
              "    </tr>\n",
              "    <tr>\n",
              "      <th>3</th>\n",
              "      <td>111.0</td>\n",
              "      <td>190.0</td>\n",
              "      <td>50.0</td>\n",
              "      <td>978294282.0</td>\n",
              "      <td>19</td>\n",
              "      <td>1</td>\n",
              "    </tr>\n",
              "    <tr>\n",
              "      <th>7</th>\n",
              "      <td>111.0</td>\n",
              "      <td>170.0</td>\n",
              "      <td>50.0</td>\n",
              "      <td>978247143.0</td>\n",
              "      <td>19</td>\n",
              "      <td>1</td>\n",
              "    </tr>\n",
              "    <tr>\n",
              "      <th>8</th>\n",
              "      <td>111.0</td>\n",
              "      <td>188.0</td>\n",
              "      <td>50.0</td>\n",
              "      <td>978226678.0</td>\n",
              "      <td>19</td>\n",
              "      <td>1</td>\n",
              "    </tr>\n",
              "    <tr>\n",
              "      <th>9</th>\n",
              "      <td>111.0</td>\n",
              "      <td>120.0</td>\n",
              "      <td>50.0</td>\n",
              "      <td>980638688.0</td>\n",
              "      <td>19</td>\n",
              "      <td>1</td>\n",
              "    </tr>\n",
              "    <tr>\n",
              "      <th>10</th>\n",
              "      <td>111.0</td>\n",
              "      <td>100.0</td>\n",
              "      <td>50.0</td>\n",
              "      <td>978909052.0</td>\n",
              "      <td>19</td>\n",
              "      <td>1</td>\n",
              "    </tr>\n",
              "    <tr>\n",
              "      <th>11</th>\n",
              "      <td>111.0</td>\n",
              "      <td>90.0</td>\n",
              "      <td>50.0</td>\n",
              "      <td>978220273.0</td>\n",
              "      <td>19</td>\n",
              "      <td>1</td>\n",
              "    </tr>\n",
              "    <tr>\n",
              "      <th>15</th>\n",
              "      <td>111.0</td>\n",
              "      <td>106.0</td>\n",
              "      <td>50.0</td>\n",
              "      <td>978174795.0</td>\n",
              "      <td>19</td>\n",
              "      <td>1</td>\n",
              "    </tr>\n",
              "    <tr>\n",
              "      <th>18</th>\n",
              "      <td>111.0</td>\n",
              "      <td>110.0</td>\n",
              "      <td>50.0</td>\n",
              "      <td>994556636.0</td>\n",
              "      <td>19</td>\n",
              "      <td>1</td>\n",
              "    </tr>\n",
              "  </tbody>\n",
              "</table>\n",
              "</div>"
            ],
            "text/plain": [
              "    userID  itemID  rating    timestamp  rating_r  rating_r\n",
              "0    111.0   160.0    50.0  978824351.0        19         3\n",
              "4    111.0   160.0    55.0  978246585.0        19         3\n",
              "12   111.0   160.0    60.0  978202577.0        19         3\n",
              "1    111.0   130.0    50.0  978300174.0        19         4\n",
              "5    111.0   130.0    55.0  978239019.0        19         4\n",
              "13   111.0   130.0    60.0  978201317.0        19         4\n",
              "17   111.0   130.0    65.0  978157434.0        19         4\n",
              "2    111.0   140.0    50.0  978298504.0        19         4\n",
              "6    111.0   140.0    55.0  978234898.0        19         4\n",
              "14   111.0   140.0    60.0  978361393.0        19         4\n",
              "16   111.0   140.0    65.0  978161166.0        19         4\n",
              "3    111.0   190.0    50.0  978294282.0        19         1\n",
              "7    111.0   170.0    50.0  978247143.0        19         1\n",
              "8    111.0   188.0    50.0  978226678.0        19         1\n",
              "9    111.0   120.0    50.0  980638688.0        19         1\n",
              "10   111.0   100.0    50.0  978909052.0        19         1\n",
              "11   111.0    90.0    50.0  978220273.0        19         1\n",
              "15   111.0   106.0    50.0  978174795.0        19         1\n",
              "18   111.0   110.0    50.0  994556636.0        19         1"
            ]
          },
          "metadata": {},
          "execution_count": 12
        }
      ]
    },
    {
      "cell_type": "markdown",
      "metadata": {
        "id": "4t1Qgzb6fgAP"
      },
      "source": [
        "#### KNNwithMeans Algorithm"
      ]
    },
    {
      "cell_type": "markdown",
      "metadata": {
        "id": "Kk5nu-LWfksh"
      },
      "source": [
        "###### This algorithm uses Collaborative-Filtering approach to predict the ratings for every users. "
      ]
    },
    {
      "cell_type": "code",
      "metadata": {
        "id": "vqzhF0ZVI8LK"
      },
      "source": [
        "## reading the data \n",
        "data = pd.read_csv(\"/content/Hackmaker_NCF.csv\")"
      ],
      "execution_count": 26,
      "outputs": []
    },
    {
      "cell_type": "code",
      "metadata": {
        "id": "3uVSND9XMAFX"
      },
      "source": [
        "## Dividing the data into train and test set\n",
        "\n",
        "train_set = data[:14]\n",
        "test_set = data[14:]"
      ],
      "execution_count": 27,
      "outputs": []
    },
    {
      "cell_type": "code",
      "metadata": {
        "id": "WSCXSoe_K2wm"
      },
      "source": [
        "## Setting up the rating scale between 50 and 100.\n",
        "\n",
        "reader = Reader(rating_scale=(50, 100))\n",
        "train_set = Dataset.load_from_df(train_set[[\"userID\", \"itemID\", \"rating\"]], reader)"
      ],
      "execution_count": 28,
      "outputs": []
    },
    {
      "cell_type": "code",
      "metadata": {
        "id": "sb-L9Zm-I8Qt"
      },
      "source": [
        "from surprise import KNNWithMeans\n",
        "\n",
        "# To use item-based cosine similarity\n",
        "sim_options = {\n",
        "    \"name\": \"cosine\",\n",
        "    \"user_based\": False,  # Compute  similarities between items\n",
        "}\n",
        "algo = KNNWithMeans(sim_options=sim_options)"
      ],
      "execution_count": 29,
      "outputs": []
    },
    {
      "cell_type": "code",
      "metadata": {
        "id": "0-6n0IWKLSiG"
      },
      "source": [
        "## build_full_trainset() -- Do not split the dataset into folds and just return a trainset as is, built from the whole dataset.\n",
        "\n",
        "trainingSet = train_set.build_full_trainset()"
      ],
      "execution_count": 30,
      "outputs": []
    },
    {
      "cell_type": "code",
      "metadata": {
        "colab": {
          "base_uri": "https://localhost:8080/"
        },
        "id": "HvUclKLKI8XR",
        "outputId": "2c87b842-d391-4e49-9a26-6bbd191dbe46"
      },
      "source": [
        "## Fitting the model\n",
        "\n",
        "algo.fit(trainingSet)"
      ],
      "execution_count": 31,
      "outputs": [
        {
          "output_type": "stream",
          "name": "stdout",
          "text": [
            "Computing the cosine similarity matrix...\n",
            "Done computing similarity matrix.\n"
          ]
        },
        {
          "output_type": "execute_result",
          "data": {
            "text/plain": [
              "<surprise.prediction_algorithms.knns.KNNWithMeans at 0x7fd5b21cae50>"
            ]
          },
          "metadata": {},
          "execution_count": 31
        }
      ]
    },
    {
      "cell_type": "code",
      "metadata": {
        "id": "I4JOdc_yI8bK"
      },
      "source": [
        "### Predicting from the model\n",
        "\n",
        "predicted_ratings = []\n",
        "for i in test_set['itemID']:\n",
        "  prediction = algo.predict(111, i)\n",
        "  x = prediction.est\n",
        "  predicted_ratings.append(x)\n"
      ],
      "execution_count": 36,
      "outputs": []
    },
    {
      "cell_type": "markdown",
      "metadata": {
        "id": "O2sLDA4egSbQ"
      },
      "source": [
        "Note: System will only recommend the product if the rating is above certain threshold e.g 55"
      ]
    },
    {
      "cell_type": "code",
      "metadata": {
        "colab": {
          "base_uri": "https://localhost:8080/"
        },
        "id": "RvxwvjY5I8dL",
        "outputId": "29610409-c97a-4619-e17e-041f02691451"
      },
      "source": [
        "## Printing the predicted ratings.\n",
        "\n",
        "predicted_ratings"
      ],
      "execution_count": 37,
      "outputs": [
        {
          "output_type": "execute_result",
          "data": {
            "text/plain": [
              "[52.5, 52.5, 52.5, 55.0, 52.5, 52.5]"
            ]
          },
          "metadata": {},
          "execution_count": 37
        }
      ]
    }
  ]
}